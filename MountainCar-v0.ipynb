{
 "cells": [
  {
   "cell_type": "code",
   "execution_count": 1,
   "metadata": {},
   "outputs": [],
   "source": [
    "import numpy as np\n",
    "import gym\n",
    "import matplotlib.pyplot as plt\n",
    "import gc\n",
    "import random\n",
    "import time\n",
    "\n",
    "from collections import deque,namedtuple\n",
    "from IPython.display import clear_output\n",
    "\n",
    "from tensorflow.keras.models import Sequential, load_model\n",
    "from tensorflow.keras.layers import Dense\n",
    "from tensorflow.keras.initializers import he_normal\n",
    "from tensorflow.keras.optimizers import SGD\n",
    "from tensorflow.keras import models\n",
    "\n",
    "import torch\n",
    "import torch.nn as nn\n",
    "import torch.optim as optim\n",
    "import torch.nn.functional as F\n",
    "import copy"
   ]
  },
  {
   "cell_type": "code",
   "execution_count": 2,
   "metadata": {},
   "outputs": [],
   "source": [
    "env = gym.make('MountainCar-v0')#import of our environment\n",
    "\n",
    "states = env.observation_space.shape[0]\n",
    "actions = env.action_space.n"
   ]
  },
  {
   "cell_type": "code",
   "execution_count": 3,
   "metadata": {},
   "outputs": [
    {
     "data": {
      "text/plain": [
       "3"
      ]
     },
     "execution_count": 3,
     "metadata": {},
     "output_type": "execute_result"
    }
   ],
   "source": [
    "actions#number of actions\n"
   ]
  },
  {
   "cell_type": "code",
   "execution_count": 4,
   "metadata": {},
   "outputs": [
    {
     "data": {
      "text/plain": [
       "2"
      ]
     },
     "execution_count": 4,
     "metadata": {},
     "output_type": "execute_result"
    }
   ],
   "source": [
    "states# number of states"
   ]
  },
  {
   "cell_type": "markdown",
   "metadata": {},
   "source": [
    "# Test our env with random actions"
   ]
  },
  {
   "cell_type": "code",
   "execution_count": 31,
   "metadata": {},
   "outputs": [
    {
     "name": "stdout",
     "output_type": "stream",
     "text": [
      "Episode:1 Score:-200.0\n",
      "Episode:2 Score:-200.0\n",
      "Episode:3 Score:-200.0\n",
      "Episode:4 Score:-200.0\n",
      "Episode:5 Score:-200.0\n",
      "Episode:6 Score:-200.0\n",
      "Episode:7 Score:-200.0\n",
      "Episode:8 Score:-200.0\n",
      "Episode:9 Score:-200.0\n",
      "Episode:10 Score:-200.0\n"
     ]
    }
   ],
   "source": [
    "episodes = 10\n",
    "for episode in range(1, episodes+1):\n",
    "    state = env.reset()\n",
    "    done = False\n",
    "    score = 0 \n",
    "    \n",
    "    while not done:\n",
    "        env.render()\n",
    "        action = random.choice([0,1])\n",
    "        n_state, reward, done, info = env.step(action)\n",
    "        score+=reward\n",
    "    print('Episode:{} Score:{}'.format(episode, score))\n",
    "    \n",
    "env.close()"
   ]
  },
  {
   "cell_type": "code",
   "execution_count": null,
   "metadata": {},
   "outputs": [],
   "source": []
  },
  {
   "cell_type": "markdown",
   "metadata": {},
   "source": [
    "# Create a Deep Learning Model"
   ]
  },
  {
   "cell_type": "markdown",
   "metadata": {},
   "source": [
    "# DQN"
   ]
  },
  {
   "cell_type": "code",
   "execution_count": 5,
   "metadata": {},
   "outputs": [],
   "source": [
    "device = torch.device(\"cuda\" if torch.cuda.is_available() else \"cpu\")\n",
    "\n",
    "n_actions = env.action_space.n\n",
    "n_states = env.observation_space.shape[0]"
   ]
  },
  {
   "cell_type": "code",
   "execution_count": 6,
   "metadata": {},
   "outputs": [],
   "source": [
    "Transition = namedtuple('Transition', ('state', 'action', 'next_state', 'reward', 'done'))"
   ]
  },
  {
   "cell_type": "code",
   "execution_count": 7,
   "metadata": {},
   "outputs": [],
   "source": [
    "class ReplayMemory(object):\n",
    "    def __init__(self, capacity):\n",
    "        self.capacity = capacity\n",
    "        self.memory = []\n",
    "        self.position = 0\n",
    "\n",
    "    def push(self, *args):\n",
    "        \"\"\"Saves a transition.\"\"\"\n",
    "        if len(self.memory) < self.capacity:\n",
    "            self.memory.append(None)\n",
    "        self.memory[self.position] = Transition(*args)\n",
    "        self.position = (self.position + 1) % self.capacity\n",
    "\n",
    "    def sample(self, batch_size):\n",
    "        return random.sample(self.memory, batch_size)\n",
    "\n",
    "    def __len__(self):\n",
    "        return len(self.memory)"
   ]
  },
  {
   "cell_type": "code",
   "execution_count": 8,
   "metadata": {},
   "outputs": [],
   "source": [
    "class DQN:\n",
    "    def __init__(self, layers, lr=0.0005, optim_method=optim.Adam):\n",
    "        self.layers = layers\n",
    "        self.lr = lr\n",
    "        self.loss = F.mse_loss\n",
    "        self.optim_method = optim_method\n",
    "        self.TargetNetwork = None\n",
    "        self.EstimateNetwork = None\n",
    "        self.optimizer = None\n",
    "        self.build_model()\n",
    "\n",
    "    def build_model(self):\n",
    "        def init_weights(layer):\n",
    "            if type(layer) == nn.Linear:\n",
    "                nn.init.xavier_normal_(layer.weight)\n",
    "\n",
    "        self.EstimateNetwork = nn.Sequential(*self.layers)\n",
    "        self.EstimateNetwork.apply(init_weights)\n",
    "\n",
    "        layers_for_target = copy.deepcopy(self.layers)\n",
    "        self.TargetNetwork = nn.Sequential(*layers_for_target)\n",
    "        self.TargetNetwork.load_state_dict(self.EstimateNetwork.state_dict())\n",
    "\n",
    "        self.optimizer = self.optim_method(self.EstimateNetwork.parameters(), lr=self.lr)\n",
    "\n",
    "    def Q_target(self, inp):\n",
    "        return self.TargetNetwork(inp)\n",
    "\n",
    "    def Q_estimate(self, inp):\n",
    "        return self.EstimateNetwork(inp)\n",
    "\n",
    "    def update_target(self):\n",
    "        self.TargetNetwork.load_state_dict(self.EstimateNetwork.state_dict())\n",
    "\n",
    "    def update_parameters(self, estimated, targets):\n",
    "        loss = self.loss(estimated, targets.unsqueeze(1))\n",
    "        self.optimizer.zero_grad()\n",
    "        loss.backward()\n",
    "\n",
    "        for param in self.EstimateNetwork.parameters():\n",
    "            param.grad.data.clamp_(-1, 1)\n",
    "        self.optimizer.step()\n",
    "\n",
    "    def save(self, name):\n",
    "        torch.save(self.EstimateNetwork, name)\n",
    "        print('------ Model saved ------')"
   ]
  },
  {
   "cell_type": "code",
   "execution_count": 9,
   "metadata": {},
   "outputs": [],
   "source": [
    "class Agent:\n",
    "    def __init__(self, env, Model, n_actions, goal, min_score, \\\n",
    "                 eps_start=1, eps_end=0.001, eps_decay=0.9, gamma=0.99, \\\n",
    "                 batch_size=64, memory_size=100000, max_episode=2000, upd_rate=1):\n",
    "        self.env = env \n",
    "        self.n_actions = n_actions # number of possible actions\n",
    "        self.goal = goal # the score to reach during learning\n",
    "        self.min_score = min_score # min score to complete the episode\n",
    "        self.eps_start = eps_start \n",
    "        self.eps = eps_start\n",
    "        self.eps_end = eps_end\n",
    "        self.eps_decay = eps_decay\n",
    "        self.gamma = gamma\n",
    "        self.batch_size = batch_size\n",
    "        self.target_update_rate = upd_rate # how often we update our target network\n",
    "        self.Model = Model # DQN instance\n",
    "        self.max_episode = max_episode # how long we train our agent\n",
    "        self.memory = ReplayMemory(memory_size) # Replay buffer\n",
    "\n",
    "    def act(self, state, eps): # epsilon greedy policy\n",
    "        if random.random() < eps:\n",
    "            return torch.tensor([[random.randrange(self.n_actions)]], device=device, dtype=torch.long)\n",
    "        else:\n",
    "            with torch.no_grad():\n",
    "                result = self.Model.Q_estimate(state).max(1)[1]\n",
    "                return result.view(1, 1)\n",
    "\n",
    "    def optimize(self): # experience replay \n",
    "        if len(self.memory) < self.batch_size:\n",
    "            return\n",
    "\n",
    "        transitions = self.memory.sample(self.batch_size)\n",
    "        batch = Transition(*zip(*transitions))\n",
    "\n",
    "        next_state_batch = torch.cat(batch.next_state)\n",
    "        state_batch = torch.cat(batch.state)\n",
    "        action_batch = torch.cat(batch.action)\n",
    "        reward_batch = torch.cat(batch.reward)\n",
    "        done_batch = torch.cat(batch.done)\n",
    "\n",
    "        estimate_value = self.Model.Q_estimate(state_batch).gather(1, action_batch)\n",
    "\n",
    "        Q_value_next = torch.zeros(self.batch_size, device=device)\n",
    "        with torch.no_grad():\n",
    "            Q_value_next[~done_batch] = self.Model.Q_target(next_state_batch).max(1)[0].detach()[~done_batch]\n",
    "        target_value = (Q_value_next * self.gamma) + reward_batch\n",
    "\n",
    "        self.Model.update_parameters(estimate_value, target_value)\n",
    "\n",
    "    def train(self): # learning procedure \n",
    "        all_scores = []\n",
    "        successful_sequences = 0\n",
    "        for ep in range(1, self.max_episode + 1):\n",
    "            state = self.env.reset()\n",
    "            state = torch.tensor(state).to(device).float().unsqueeze(0)\n",
    "            done = False\n",
    "            episode_reward = 0\n",
    "\n",
    "            while not done:\n",
    "                action = self.act(state, self.eps) \n",
    "                action = torch.tensor(action).to(device)\n",
    "\n",
    "                next_state, reward, done, info = self.env.step(action.item())\n",
    "                episode_reward += reward\n",
    "\n",
    "                modified_reward = reward + 300 * (self.gamma * abs(next_state[1]) - abs(state[0][1]))\n",
    "\n",
    "                next_state = torch.tensor(next_state).to(device).float().unsqueeze(0)\n",
    "                modified_reward = torch.tensor(modified_reward).to(device).float().unsqueeze(0)\n",
    "                done = torch.tensor(done).to(device).unsqueeze(0)\n",
    "\n",
    "                self.memory.push(state, action, next_state, modified_reward, done)\n",
    "                state = next_state\n",
    "\n",
    "                self.optimize() # experience replay\n",
    "\n",
    "            \n",
    "            if ep % self.target_update_rate == 0: \n",
    "                self.Model.update_target()\n",
    "\n",
    "            self.eps = max(self.eps_end, self.eps * self.eps_decay)\n",
    "            all_scores.append(episode_reward)\n",
    "\n",
    "            if ep % 100 == 0:\n",
    "                print('episode', ep, ':', np.mean(all_scores[:-100:-1]), 'average score')\n",
    "\n",
    "            if np.mean(all_scores[:-100:-1]) >= self.goal:\n",
    "                successful_sequences += 1\n",
    "                if successful_sequences == 5:\n",
    "                    print('success at episode', ep)\n",
    "                    return all_scores\n",
    "            else:\n",
    "                successful_sequences = 0\n",
    "\n",
    "        return all_scores\n",
    "\n",
    "    def test(self, episodes=50, render=False): #test trained agent\n",
    "        state = self.env.reset()\n",
    "        state = torch.tensor(state).to(device).float().unsqueeze(0)\n",
    "        ep_count = 0\n",
    "        current_episode_reward = 0\n",
    "        scores = []\n",
    "        while ep_count < episodes:\n",
    "            if render:\n",
    "                env.render()\n",
    "            action = self.act(state, 0)\n",
    "            state, reward, done, _ = self.env.step(action.item())\n",
    "            state = torch.tensor(state).to(device).float().unsqueeze(0)\n",
    "            current_episode_reward += reward\n",
    "\n",
    "            if done:\n",
    "                ep_count += 1\n",
    "                scores.append(current_episode_reward)\n",
    "                current_episode_reward = 0\n",
    "                state = self.env.reset()\n",
    "                state = torch.tensor(state).to(device).float().unsqueeze(0)\n",
    "\n",
    "        print('average score:', sum(scores) / len(scores))\n",
    "        print('max reward:', max(scores))\n",
    "        print('-----')\n",
    "        print()\n",
    "\n",
    "    def save(self, name='agent.pkl'): # save policy network\n",
    "        self.Model.save(name)"
   ]
  },
  {
   "cell_type": "code",
   "execution_count": 10,
   "metadata": {},
   "outputs": [],
   "source": [
    "layers = (\n",
    "        nn.Linear(n_states, 256),\n",
    "        nn.ReLU(),\n",
    "        nn.Linear(256, 256),\n",
    "        nn.ReLU(),\n",
    "        nn.Linear(256, n_actions),\n",
    ")"
   ]
  },
  {
   "cell_type": "code",
   "execution_count": 11,
   "metadata": {},
   "outputs": [
    {
     "name": "stderr",
     "output_type": "stream",
     "text": [
      "<ipython-input-9-452cf482a042>:61: UserWarning: To copy construct from a tensor, it is recommended to use sourceTensor.clone().detach() or sourceTensor.clone().detach().requires_grad_(True), rather than torch.tensor(sourceTensor).\n",
      "  action = torch.tensor(action).to(device)\n",
      "<ipython-input-9-452cf482a042>:69: UserWarning: To copy construct from a tensor, it is recommended to use sourceTensor.clone().detach() or sourceTensor.clone().detach().requires_grad_(True), rather than torch.tensor(sourceTensor).\n",
      "  modified_reward = torch.tensor(modified_reward).to(device).float().unsqueeze(0)\n"
     ]
    },
    {
     "name": "stdout",
     "output_type": "stream",
     "text": [
      "episode 100 : -192.65656565656565 average score\n",
      "episode 200 : -199.46464646464648 average score\n",
      "episode 300 : -192.3838383838384 average score\n",
      "episode 400 : -168.3030303030303 average score\n",
      "episode 500 : -147.35353535353536 average score\n",
      "episode 600 : -136.86868686868686 average score\n",
      "episode 700 : -129.53535353535352 average score\n",
      "episode 800 : -127.73737373737374 average score\n",
      "episode 900 : -125.52525252525253 average score\n",
      "episode 1000 : -123.78787878787878 average score\n",
      "episode 1100 : -124.44444444444444 average score\n",
      "episode 1200 : -113.76767676767676 average score\n",
      "episode 1300 : -110.66666666666667 average score\n",
      "success at episode 1309\n"
     ]
    }
   ],
   "source": [
    "Model = DQN(layers, lr=0.0001, optim_method=optim.Adam)\n",
    "MountainCarAgent = Agent(env, Model, n_actions, goal=-110, min_score=-200, \\\n",
    "                         eps_start=1, eps_end=0.001, eps_decay=0.9, gamma=0.99, \\\n",
    "                         batch_size=64, memory_size=100000, max_episode=2000)\n",
    "scores = MountainCarAgent.train()"
   ]
  },
  {
   "cell_type": "code",
   "execution_count": null,
   "metadata": {},
   "outputs": [],
   "source": [
    "MountainCarAgent.test(episodes=100)"
   ]
  },
  {
   "cell_type": "code",
   "execution_count": 14,
   "metadata": {},
   "outputs": [
    {
     "name": "stderr",
     "output_type": "stream",
     "text": [
      "<ipython-input-14-d54ca5eaf203>:7: UserWarning: To copy construct from a tensor, it is recommended to use sourceTensor.clone().detach() or sourceTensor.clone().detach().requires_grad_(True), rather than torch.tensor(sourceTensor).\n",
      "  action = torch.tensor(action).to(device)\n"
     ]
    }
   ],
   "source": [
    "for i in range(5):\n",
    "    state = env.reset()\n",
    "    while True:   \n",
    "        state = torch.tensor(state).to(device).float().unsqueeze(0)\n",
    "        result = Model.Q_estimate(state).max(1)[1]\n",
    "        action =result.view(1, 1)\n",
    "        action = torch.tensor(action).to(device)\n",
    "        \n",
    "       \n",
    "        state, reward, done, info = MountainCarAgent.env.step(action.item())\n",
    "\n",
    "        env.render()\n",
    "       \n",
    "        if done:\n",
    "            time.sleep(0.5)\n",
    "            break\n",
    "           \n",
    "env.close()"
   ]
  },
  {
   "cell_type": "markdown",
   "metadata": {},
   "source": [
    "# Double DQN (from scratch)"
   ]
  },
  {
   "cell_type": "code",
   "execution_count": 5,
   "metadata": {},
   "outputs": [],
   "source": [
    "def create_model(seed = 666):\n",
    "    init = he_normal(seed = seed)#initializer that draws samples from a truncated normal distribution centered on 0 \n",
    "    \n",
    "    model = Sequential()\n",
    "    model.add(Dense(64, input_shape = (2,), activation = 'relu', kernel_initializer = init))\n",
    "    model.add(Dense(128, activation = 'relu', kernel_initializer = init))\n",
    "    model.add(Dense(env.action_space.n, kernel_initializer = init))\n",
    "    \n",
    "    optimizer = SGD(learning_rate=1e-3)# here we used the SGD as an optimizer\n",
    "    model.compile(optimizer = optimizer, loss = 'mse')#mean squared error as the loss function\n",
    "    \n",
    "    return model"
   ]
  },
  {
   "cell_type": "markdown",
   "metadata": {},
   "source": [
    "### Initialize Hyperparams and variables"
   ]
  },
  {
   "cell_type": "code",
   "execution_count": 6,
   "metadata": {},
   "outputs": [],
   "source": [
    "capacity = 5000 # Memory capacity\n",
    "memory = deque(maxlen = capacity) # Defining memory\n",
    "gamma = 0.99 # Discount rate for future reward\n",
    "\n",
    "# Exploration rate\n",
    "exploration_rate = 1 # Starting exploration rate\n",
    "min_exploration_rate = 0.01 # Minimum exploration rate\n",
    "max_exploration_rate = 1 # Maximum exploration rate\n",
    "exploration_decay_rate = 0.001\n",
    "\n",
    "episodes_to_play = 15 # Number of full episodes to play\n",
    "batch_size = 32\n",
    "update_counter = 0\n",
    "\n",
    "#For future visualisation\n",
    "positions = []\n",
    "rewards = []\n",
    "exploration_rates = []\n",
    "losses = []\n",
    "val_losses = []\n",
    "\n",
    "# Defining policy and target nets\n",
    "policy_net = create_model()\n",
    "target_net = create_model()\n",
    "target_net.set_weights(policy_net.get_weights())"
   ]
  },
  {
   "cell_type": "markdown",
   "metadata": {},
   "source": [
    "### DDQN algorithme"
   ]
  },
  {
   "cell_type": "code",
   "execution_count": null,
   "metadata": {
    "scrolled": true
   },
   "outputs": [
    {
     "name": "stdout",
     "output_type": "stream",
     "text": [
      "Episode: 2\n"
     ]
    },
    {
     "data": {
      "image/png": "[encoded data removed]",
      "text/plain": [
       "<Figure size 1368x720 with 4 Axes>"
      ]
     },
     "metadata": {
      "needs_background": "light"
     },
     "output_type": "display_data"
    },
    {
     "name": "stdout",
     "output_type": "stream",
     "text": [
      "starting episode  2\n"
     ]
    }
   ],
   "source": [
    "# Playing episodes\n",
    "for episode in range(episodes_to_play):  \n",
    "    print(\"starting episode \", episode)\n",
    "    max_position = -1.2 # Track maximum position reached\n",
    "    episode_reward = 0 # Track episode reward\n",
    "    updated = False # Whether target net updated in this episode or not\n",
    "    \n",
    "    state = env.reset() # Get initial state\n",
    "    \n",
    "    # Play until episode is done\n",
    "    while True:\n",
    "        # Tune exploration rate\n",
    "        exploration_rate = min_exploration_rate + (max_exploration_rate - min_exploration_rate) * np.exp(- exploration_decay_rate * (update_counter))\n",
    "        \n",
    "        # Store exploration rate in list for future visualization\n",
    "        exploration_rates.append(exploration_rate)\n",
    "        \n",
    "        # Chosing an action according to the e-greedy strategy\n",
    "        exploration_rate_thresh = random.uniform(0, 1)        \n",
    "        if exploration_rate_thresh < exploration_rate:\n",
    "            action = env.action_space.sample()\n",
    "        else:\n",
    "            action = policy_net.predict(state.reshape((-1, 2)))\n",
    "            action = np.argmax(action[0])\n",
    "        \n",
    "        # Executing the action\n",
    "        new_state, reward, done, info = env.step(action)\n",
    "        \n",
    "        # Modifying reward. If a cart reaches 0.5 distance or higher - it gets additional reward\n",
    "        reward = 100*((np.sin(3 * new_state[0]) * 0.0025 + 0.5 * new_state[1] * new_state[1]) - (np.sin(3 * state[0]) * 0.0025 + 0.5 * state[1] * state[1])) \n",
    "        if new_state[0] >= 0.5:\n",
    "            reward += 1\n",
    "        \n",
    "        episode_reward += reward\n",
    "        \n",
    "        # Storing observation in memory\n",
    "        memory.append([state, action, reward, new_state, done])\n",
    "        \n",
    "        # Tracking maximum reached distance\n",
    "        if new_state[0] > max_position:\n",
    "            max_position = new_state[0]\n",
    "        \n",
    "        # Policy net training\n",
    "        if len(memory) >= batch_size:\n",
    "            # Taking random sample of observations from memory\n",
    "            observations = random.sample(memory, batch_size)\n",
    "            targets = []\n",
    "            \n",
    "            # Loop through all observation in the sample\n",
    "            for obs in observations:\n",
    "                state_, action_, reward_, new_state_, done_ = obs\n",
    "                \n",
    "                # Predict target using policy_net\n",
    "                target = policy_net.predict(state_.reshape((-1, 2)))\n",
    "                \n",
    "                # Updating Q-values\n",
    "                if done_:\n",
    "                    target[0, action_] = reward_\n",
    "                else:\n",
    "                    Q_optimal = max(target_net.predict(new_state_.reshape((-1, 2)))[0])\n",
    "                    target[0, action_] = reward_ + Q_optimal * gamma\n",
    "                targets.append(target[0])\n",
    "            \n",
    "            # Preparing data for policy_net training\n",
    "            observations = np.array([obs[0] for obs in observations], dtype = 'float32')\n",
    "            targets = np.array(targets)\n",
    "            \n",
    "            # Training policy_net\n",
    "            h = policy_net.fit(observations, targets, epochs = 1, verbose = 0, validation_split = 0.1)\n",
    "            \n",
    "            # Store losses for visualization purposes\n",
    "            losses.append(h.history['loss'][0])\n",
    "            val_losses.append(h.history['val_loss'][0])\n",
    "        \n",
    "        # Update target_net weights each 5 full episodes\n",
    "        if (episode+1)%5 == 0 and not updated:\n",
    "            print('Updating target_net weights')\n",
    "            target_net.set_weights(policy_net.get_weights())\n",
    "            updated = True\n",
    "        \n",
    "        update_counter += 1\n",
    "        \n",
    "        state = new_state\n",
    "        \n",
    "        if done:\n",
    "            break\n",
    "    print(\"episode \",episode, \"----score:\",episode_reward)\n",
    "    # Store episode max position and reward for future visualization\n",
    "    positions.append(max_position)\n",
    "    rewards.append(episode_reward)\n",
    "    \n",
    "    # Plots\n",
    "    clear_output(wait = True)\n",
    "    print(f'Episode: {episode+1}')\n",
    "    plt.figure(figsize = (19, 10))\n",
    "    \n",
    "    # Episode max position plot\n",
    "    plt.subplot(221)\n",
    "    plt.plot(range(len(positions)), positions)\n",
    "    plt.grid(); plt.title('Max position')\n",
    "    \n",
    "    # Episode reward plot\n",
    "    plt.subplot(222)\n",
    "    plt.plot(range(len(positions)), rewards)\n",
    "    plt.grid(); plt.title('Episode reward') \n",
    "    \n",
    "    # Esploration rate for each frame\n",
    "    plt.subplot(223)\n",
    "    plt.plot(range(len(exploration_rates)), exploration_rates)\n",
    "    plt.grid(); plt.title('Exploration rates')\n",
    "    \n",
    "    # Loss plot\n",
    "    plt.subplot(224)\n",
    "    plt.plot(range(len(losses)), losses, label = 'loss')\n",
    "    plt.plot(range(len(losses)), val_losses, label = 'val_loss')\n",
    "    plt.grid(); plt.legend(), plt.title('Loss')\n",
    "    plt.show()\n",
    "    \n",
    "    gc.collect()"
   ]
  },
  {
   "cell_type": "markdown",
   "metadata": {},
   "source": [
    "### Save the model"
   ]
  },
  {
   "cell_type": "code",
   "execution_count": 8,
   "metadata": {},
   "outputs": [],
   "source": [
    "policy_net.save('./trained_network.h5')"
   ]
  },
  {
   "cell_type": "markdown",
   "metadata": {},
   "source": [
    "### Load and Test the model"
   ]
  },
  {
   "cell_type": "code",
   "execution_count": 11,
   "metadata": {},
   "outputs": [],
   "source": [
    "model=models.load_model('trained_network.h5')"
   ]
  },
  {
   "cell_type": "code",
   "execution_count": 12,
   "metadata": {},
   "outputs": [],
   "source": [
    "for i in range(5):\n",
    "    state = env.reset()\n",
    "    \n",
    "    while True:        \n",
    "        action = model.predict(state.reshape((-1, 2)))\n",
    "        action = np.argmax(action[0])\n",
    "       \n",
    "        state, reward, done, info = env.step(action)\n",
    "       \n",
    "        env.render()\n",
    "       \n",
    "        if done:\n",
    "            time.sleep(0.5)\n",
    "            break\n",
    "           \n",
    "env.close()"
   ]
  },
  {
   "cell_type": "code",
   "execution_count": null,
   "metadata": {},
   "outputs": [],
   "source": [
    "MountainCarAgent.test(episodes=100)"
   ]
  },
  {
   "cell_type": "code",
   "execution_count": null,
   "metadata": {},
   "outputs": [],
   "source": []
  },
  {
   "cell_type": "code",
   "execution_count": null,
   "metadata": {},
   "outputs": [],
   "source": []
  },
  {
   "cell_type": "code",
   "execution_count": null,
   "metadata": {},
   "outputs": [],
   "source": []
  },
  {
   "cell_type": "code",
   "execution_count": null,
   "metadata": {},
   "outputs": [],
   "source": []
  },
  {
   "cell_type": "code",
   "execution_count": null,
   "metadata": {},
   "outputs": [],
   "source": []
  },
  {
   "cell_type": "code",
   "execution_count": null,
   "metadata": {},
   "outputs": [],
   "source": []
  },
  {
   "cell_type": "code",
   "execution_count": null,
   "metadata": {},
   "outputs": [],
   "source": []
  },
  {
   "cell_type": "code",
   "execution_count": null,
   "metadata": {},
   "outputs": [],
   "source": []
  },
  {
   "cell_type": "code",
   "execution_count": null,
   "metadata": {},
   "outputs": [],
   "source": []
  },
  {
   "cell_type": "code",
   "execution_count": null,
   "metadata": {},
   "outputs": [],
   "source": []
  },
  {
   "cell_type": "code",
   "execution_count": null,
   "metadata": {},
   "outputs": [],
   "source": []
  },
  {
   "cell_type": "code",
   "execution_count": null,
   "metadata": {},
   "outputs": [],
   "source": []
  },
  {
   "cell_type": "code",
   "execution_count": null,
   "metadata": {},
   "outputs": [],
   "source": []
  },
  {
   "cell_type": "code",
   "execution_count": null,
   "metadata": {},
   "outputs": [],
   "source": []
  },
  {
   "cell_type": "code",
   "execution_count": null,
   "metadata": {},
   "outputs": [],
   "source": []
  },
  {
   "cell_type": "code",
   "execution_count": null,
   "metadata": {},
   "outputs": [],
   "source": []
  },
  {
   "cell_type": "code",
   "execution_count": null,
   "metadata": {},
   "outputs": [],
   "source": []
  }
 ],
 "metadata": {
  "kernelspec": {
   "display_name": "Python 3",
   "language": "python",
   "name": "python3"
  },
  "language_info": {
   "codemirror_mode": {
    "name": "ipython",
    "version": 3
   },
   "file_extension": ".py",
   "mimetype": "text/x-python",
   "name": "python",
   "nbconvert_exporter": "python",
   "pygments_lexer": "ipython3",
   "version": "3.8.3"
  }
 },
 "nbformat": 4,
 "nbformat_minor": 4
}
